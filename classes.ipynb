{
 "cells": [
  {
   "cell_type": "code",
   "execution_count": 1,
   "metadata": {
    "ExecuteTime": {
     "end_time": "2022-04-28T08:59:26.277046Z",
     "start_time": "2022-04-28T08:59:26.265838Z"
    }
   },
   "outputs": [],
   "source": [
    "%load_ext autoreload\n",
    "%autoreload 2"
   ]
  },
  {
   "cell_type": "code",
   "execution_count": 318,
   "metadata": {
    "ExecuteTime": {
     "end_time": "2022-04-28T13:51:42.689349Z",
     "start_time": "2022-04-28T13:51:42.286081Z"
    }
   },
   "outputs": [],
   "source": [
    "import numpy as np\n",
    "import time\n",
    "import pandas as pd"
   ]
  },
  {
   "cell_type": "code",
   "execution_count": 3,
   "metadata": {
    "ExecuteTime": {
     "end_time": "2022-04-28T08:59:28.527691Z",
     "start_time": "2022-04-28T08:59:28.515672Z"
    }
   },
   "outputs": [
    {
     "data": {
      "text/plain": [
       "'1.19.5'"
      ]
     },
     "execution_count": 3,
     "metadata": {},
     "output_type": "execute_result"
    }
   ],
   "source": [
    "np.__version__"
   ]
  },
  {
   "cell_type": "code",
   "execution_count": 217,
   "metadata": {
    "ExecuteTime": {
     "end_time": "2022-04-28T12:56:30.755529Z",
     "start_time": "2022-04-28T12:56:30.746146Z"
    }
   },
   "outputs": [],
   "source": [
    "class Chromosome:\n",
    "    def __init__(self, size=1):\n",
    "        self._size = size\n",
    "        self._chromosome = np.random.rand(size)\n",
    "        self._fit_value = None\n",
    "        \n",
    "    def __repr__(self):\n",
    "        return f\"Chromosome at {id(self)}\"\n",
    "    \n",
    "    @property\n",
    "    def genes(self):\n",
    "        return self._chromosome\n",
    "    \n",
    "    @property\n",
    "    def fit_value(self):\n",
    "        return self._fit_value\n",
    "    \n",
    "    @fit_value.setter\n",
    "    def fit_value(self, value):\n",
    "        self._fit_value = value\n",
    "    \n",
    "    @genes.setter\n",
    "    def genes(self, new_chromosome):\n",
    "        self._chromosome = new_chromosome\n",
    "    \n",
    "    def mutate_gene(self):\n",
    "        index = np.random.randint(self._size)\n",
    "        self._chromosome.flat[index] = np.random.rand(1)[0]"
   ]
  },
  {
   "cell_type": "code",
   "execution_count": 227,
   "metadata": {
    "ExecuteTime": {
     "end_time": "2022-04-28T12:57:21.196770Z",
     "start_time": "2022-04-28T12:57:21.186390Z"
    }
   },
   "outputs": [],
   "source": [
    "class Population:\n",
    "    def __init__(self, size=100, n_items=8):\n",
    "        self._size = size\n",
    "        self._n_items = n_items\n",
    "        \n",
    "    def populate(self):\n",
    "        \"\"\"\n",
    "        n_row = self._size\n",
    "        n_col = self._n_items\n",
    "        v_func = np.vectorize(lambda x: Chromosome(n_col))\n",
    "        self._pop = v_func(np.zeros(n_row)) \n",
    "        \"\"\"\n",
    "        n_row = self._size\n",
    "        n_col = self._n_items\n",
    "        #dtype = [('genes', np.ndarray), ('fit_value', float)]\n",
    "        dtype = [f\"g_{x}\" for x in range(n_col)] + ['fit_value']\n",
    "        v_func = np.vectorize(lambda x: Chromosome(n_col))\n",
    "    @property\n",
    "    def pop(self):\n",
    "        if isinstance(self._pop, np.ndarray):\n",
    "            return self._pop\n",
    "        else:\n",
    "            raise Exception('empty poopulation')\n",
    "        \n",
    "    @property\n",
    "    def fitness(self):\n",
    "        return self._fitness_func\n",
    "    \n",
    "    @fitness.setter\n",
    "    def fitness(self, func):\n",
    "        self._fitness_func = np.vectorize(func)\n",
    "    \n",
    "    def fit(self):\n",
    "        self._fitness_func(self.pop)   \n",
    "        \n",
    "    def sort(self):\n",
    "        np.sort(self.pop, order=Chromosome.fit_value)"
   ]
  },
  {
   "cell_type": "code",
   "execution_count": 193,
   "metadata": {
    "ExecuteTime": {
     "end_time": "2022-04-28T11:42:35.964237Z",
     "start_time": "2022-04-28T11:42:35.952587Z"
    }
   },
   "outputs": [],
   "source": [
    "def get_split(size):\n",
    "    return np.random.randint(1, size-1)"
   ]
  },
  {
   "cell_type": "code",
   "execution_count": null,
   "metadata": {},
   "outputs": [],
   "source": [
    "# gggggggg -> max dim = 6\n",
    "# if dim == 4 ->\n",
    "# abbbbaaa -> aabbbbaa -> aaabbbba\n",
    "# if dim == 6 -> abbbbbba"
   ]
  },
  {
   "cell_type": "code",
   "execution_count": 202,
   "metadata": {
    "ExecuteTime": {
     "end_time": "2022-04-28T11:58:45.854574Z",
     "start_time": "2022-04-28T11:58:45.846307Z"
    }
   },
   "outputs": [],
   "source": [
    "def get_split2(size):\n",
    "    segment = np.random.randint(1, size-2)\n",
    "    splitpoint = np.random.randint(1, size - segment)\n",
    "    #print('*' * split + '-' * segment + '*' * (size - segment - split), segment, split)\n",
    "    return splitpoint, segment"
   ]
  },
  {
   "cell_type": "code",
   "execution_count": 204,
   "metadata": {
    "ExecuteTime": {
     "end_time": "2022-04-28T12:33:57.031116Z",
     "start_time": "2022-04-28T12:33:57.023171Z"
    }
   },
   "outputs": [],
   "source": [
    "def xover(c1, c2, size):\n",
    "    split = get_split(size)\n",
    "    concat = np.concatenate\n",
    "    chromo1, chromo2 = c1.genes, c2.genes\n",
    "    chromo1, chromo2 = concat((chromo1[:split],chromo2[split:])), concat((chromo2[:split],chromo1[split:]))\n",
    "    c1.genes = chromo1\n",
    "    c2.genes = chromo2\n",
    "    \n",
    "    return 0"
   ]
  },
  {
   "cell_type": "code",
   "execution_count": 205,
   "metadata": {
    "ExecuteTime": {
     "end_time": "2022-04-28T12:33:58.043867Z",
     "start_time": "2022-04-28T12:33:58.017743Z"
    }
   },
   "outputs": [],
   "source": [
    "def xover2(c1, c2, size):\n",
    "    split, segment = get_split2(size)\n",
    "    concat = np.concatenate\n",
    "    chromo1, chromo2 = c1.genes, c2.genes\n",
    "    chromo1 = concat(chromo1[:split],chromo2[split:split+segment],chromo1[split+segment:])\n",
    "    chromo2 = concat(chromo2[:split],chromo1[split:split+segment],chromo2[split+segment:])\n",
    "    c1.genes = chromo1\n",
    "    c2.genes = chromo2\n",
    "    \n",
    "    return 0"
   ]
  },
  {
   "cell_type": "code",
   "execution_count": null,
   "metadata": {},
   "outputs": [],
   "source": []
  },
  {
   "cell_type": "code",
   "execution_count": null,
   "metadata": {},
   "outputs": [],
   "source": []
  },
  {
   "cell_type": "code",
   "execution_count": null,
   "metadata": {},
   "outputs": [],
   "source": []
  },
  {
   "cell_type": "code",
   "execution_count": null,
   "metadata": {},
   "outputs": [],
   "source": []
  },
  {
   "cell_type": "code",
   "execution_count": 228,
   "metadata": {
    "ExecuteTime": {
     "end_time": "2022-04-28T12:57:26.448941Z",
     "start_time": "2022-04-28T12:57:26.442099Z"
    }
   },
   "outputs": [],
   "source": [
    "p = Population(20, 8)"
   ]
  },
  {
   "cell_type": "code",
   "execution_count": 229,
   "metadata": {
    "ExecuteTime": {
     "end_time": "2022-04-28T12:57:27.337017Z",
     "start_time": "2022-04-28T12:57:27.326744Z"
    }
   },
   "outputs": [
    {
     "data": {
      "text/plain": [
       "0.0002646446228027344"
      ]
     },
     "execution_count": 229,
     "metadata": {},
     "output_type": "execute_result"
    }
   ],
   "source": [
    "start = time.time()\n",
    "p.populate()\n",
    "time.time() - start"
   ]
  },
  {
   "cell_type": "code",
   "execution_count": 237,
   "metadata": {
    "ExecuteTime": {
     "end_time": "2022-04-28T13:00:18.413079Z",
     "start_time": "2022-04-28T13:00:18.404255Z"
    }
   },
   "outputs": [
    {
     "data": {
      "text/plain": [
       "array([Chromosome at 140040014736144, Chromosome at 140040014733840,\n",
       "       Chromosome at 140040014734096, Chromosome at 140040014734608,\n",
       "       Chromosome at 140040021364304, Chromosome at 140040021364560,\n",
       "       Chromosome at 140040021364368, Chromosome at 140040021360784,\n",
       "       Chromosome at 140040021363472, Chromosome at 140040021364432,\n",
       "       Chromosome at 140040021360848, Chromosome at 140040021361552,\n",
       "       Chromosome at 140040021363344, Chromosome at 140040021362832,\n",
       "       Chromosome at 140040021363152, Chromosome at 140040021363920,\n",
       "       Chromosome at 140040021363024, Chromosome at 140040021360720,\n",
       "       Chromosome at 140040021361168, Chromosome at 140040021361680],\n",
       "      dtype=object)"
      ]
     },
     "execution_count": 237,
     "metadata": {},
     "output_type": "execute_result"
    }
   ],
   "source": [
    "p.pop"
   ]
  },
  {
   "cell_type": "code",
   "execution_count": 231,
   "metadata": {
    "ExecuteTime": {
     "end_time": "2022-04-28T12:57:35.284125Z",
     "start_time": "2022-04-28T12:57:35.262968Z"
    }
   },
   "outputs": [],
   "source": [
    "# funzione di fitness\n",
    "# la variabile Chromosome.genes non dovrebbe essere chiamata esplicitamente, quindi bisogna trovare \n",
    "# una funzione di più alto livello che venga chiamata con i metodi corretti\n",
    "\n",
    "def fit_fun(chromosome):\n",
    "    chromosome.fit_value = np.sum(chromosome.genes)"
   ]
  },
  {
   "cell_type": "code",
   "execution_count": null,
   "metadata": {},
   "outputs": [],
   "source": [
    "# ad esempio, la funzione di fitness prende un cromosoma (istanza di Chromosome)"
   ]
  },
  {
   "cell_type": "code",
   "execution_count": null,
   "metadata": {},
   "outputs": [],
   "source": []
  },
  {
   "cell_type": "code",
   "execution_count": null,
   "metadata": {},
   "outputs": [],
   "source": []
  },
  {
   "cell_type": "code",
   "execution_count": 232,
   "metadata": {
    "ExecuteTime": {
     "end_time": "2022-04-28T12:57:37.049786Z",
     "start_time": "2022-04-28T12:57:37.043379Z"
    }
   },
   "outputs": [],
   "source": [
    "p.fitness = fit_fun"
   ]
  },
  {
   "cell_type": "code",
   "execution_count": 233,
   "metadata": {
    "ExecuteTime": {
     "end_time": "2022-04-28T12:57:38.013081Z",
     "start_time": "2022-04-28T12:57:38.006097Z"
    }
   },
   "outputs": [],
   "source": [
    "p.fit()"
   ]
  },
  {
   "cell_type": "code",
   "execution_count": 234,
   "metadata": {
    "ExecuteTime": {
     "end_time": "2022-04-28T12:57:40.964285Z",
     "start_time": "2022-04-28T12:57:40.949969Z"
    }
   },
   "outputs": [
    {
     "data": {
      "text/plain": [
       "3.907775064077095"
      ]
     },
     "execution_count": 234,
     "metadata": {},
     "output_type": "execute_result"
    }
   ],
   "source": [
    "p.pop[2].fit_value"
   ]
  },
  {
   "cell_type": "code",
   "execution_count": 235,
   "metadata": {
    "ExecuteTime": {
     "end_time": "2022-04-28T12:57:43.485019Z",
     "start_time": "2022-04-28T12:57:43.477383Z"
    }
   },
   "outputs": [
    {
     "data": {
      "text/plain": [
       "array([0.74387209, 0.8571742 , 0.17250363, 0.57398267, 0.83881516,\n",
       "       0.85418747, 0.45147309, 0.00174877])"
      ]
     },
     "execution_count": 235,
     "metadata": {},
     "output_type": "execute_result"
    }
   ],
   "source": [
    "p.pop[0].genes"
   ]
  },
  {
   "cell_type": "code",
   "execution_count": 191,
   "metadata": {
    "ExecuteTime": {
     "end_time": "2022-04-28T11:33:36.425150Z",
     "start_time": "2022-04-28T11:33:36.418664Z"
    }
   },
   "outputs": [],
   "source": [
    "p.pop[0].mutate_gene()"
   ]
  },
  {
   "cell_type": "code",
   "execution_count": 192,
   "metadata": {
    "ExecuteTime": {
     "end_time": "2022-04-28T11:33:37.415527Z",
     "start_time": "2022-04-28T11:33:37.408013Z"
    }
   },
   "outputs": [
    {
     "data": {
      "text/plain": [
       "array([0.11591088, 0.84887496, 0.38702362, 0.89799612, 0.60198784,\n",
       "       0.70597501, 0.49185147, 0.94902503])"
      ]
     },
     "execution_count": 192,
     "metadata": {},
     "output_type": "execute_result"
    }
   ],
   "source": [
    "p.pop[0].genes"
   ]
  },
  {
   "cell_type": "code",
   "execution_count": 174,
   "metadata": {
    "ExecuteTime": {
     "end_time": "2022-04-28T11:24:21.925886Z",
     "start_time": "2022-04-28T11:24:21.911156Z"
    }
   },
   "outputs": [
    {
     "data": {
      "text/plain": [
       "__main__.Chromosome"
      ]
     },
     "execution_count": 174,
     "metadata": {},
     "output_type": "execute_result"
    }
   ],
   "source": [
    "type(p.pop[0])"
   ]
  },
  {
   "cell_type": "code",
   "execution_count": 236,
   "metadata": {
    "ExecuteTime": {
     "end_time": "2022-04-28T12:57:53.798061Z",
     "start_time": "2022-04-28T12:57:53.785064Z"
    }
   },
   "outputs": [
    {
     "ename": "ValueError",
     "evalue": "Cannot specify order when the array has no fields.",
     "output_type": "error",
     "traceback": [
      "\u001b[0;31m---------------------------------------------------------------------------\u001b[0m",
      "\u001b[0;31mValueError\u001b[0m                                Traceback (most recent call last)",
      "\u001b[0;32m<ipython-input-236-357f481f0589>\u001b[0m in \u001b[0;36m<module>\u001b[0;34m\u001b[0m\n\u001b[0;32m----> 1\u001b[0;31m \u001b[0mp\u001b[0m\u001b[0;34m.\u001b[0m\u001b[0msort\u001b[0m\u001b[0;34m(\u001b[0m\u001b[0;34m)\u001b[0m\u001b[0;34m\u001b[0m\u001b[0;34m\u001b[0m\u001b[0m\n\u001b[0m",
      "\u001b[0;32m<ipython-input-227-74fb39c7fe40>\u001b[0m in \u001b[0;36msort\u001b[0;34m(self)\u001b[0m\n\u001b[1;32m     35\u001b[0m \u001b[0;34m\u001b[0m\u001b[0m\n\u001b[1;32m     36\u001b[0m     \u001b[0;32mdef\u001b[0m \u001b[0msort\u001b[0m\u001b[0;34m(\u001b[0m\u001b[0mself\u001b[0m\u001b[0;34m)\u001b[0m\u001b[0;34m:\u001b[0m\u001b[0;34m\u001b[0m\u001b[0;34m\u001b[0m\u001b[0m\n\u001b[0;32m---> 37\u001b[0;31m         \u001b[0mnp\u001b[0m\u001b[0;34m.\u001b[0m\u001b[0msort\u001b[0m\u001b[0;34m(\u001b[0m\u001b[0mself\u001b[0m\u001b[0;34m.\u001b[0m\u001b[0mpop\u001b[0m\u001b[0;34m,\u001b[0m \u001b[0morder\u001b[0m\u001b[0;34m=\u001b[0m\u001b[0mChromosome\u001b[0m\u001b[0;34m.\u001b[0m\u001b[0mfit_value\u001b[0m\u001b[0;34m)\u001b[0m\u001b[0;34m\u001b[0m\u001b[0;34m\u001b[0m\u001b[0m\n\u001b[0m",
      "\u001b[0;32m<__array_function__ internals>\u001b[0m in \u001b[0;36msort\u001b[0;34m(*args, **kwargs)\u001b[0m\n",
      "\u001b[0;32m~/anaconda3/lib/python3.7/site-packages/numpy/core/fromnumeric.py\u001b[0m in \u001b[0;36msort\u001b[0;34m(a, axis, kind, order)\u001b[0m\n\u001b[1;32m    989\u001b[0m     \u001b[0;32melse\u001b[0m\u001b[0;34m:\u001b[0m\u001b[0;34m\u001b[0m\u001b[0;34m\u001b[0m\u001b[0m\n\u001b[1;32m    990\u001b[0m         \u001b[0ma\u001b[0m \u001b[0;34m=\u001b[0m \u001b[0masanyarray\u001b[0m\u001b[0;34m(\u001b[0m\u001b[0ma\u001b[0m\u001b[0;34m)\u001b[0m\u001b[0;34m.\u001b[0m\u001b[0mcopy\u001b[0m\u001b[0;34m(\u001b[0m\u001b[0morder\u001b[0m\u001b[0;34m=\u001b[0m\u001b[0;34m\"K\"\u001b[0m\u001b[0;34m)\u001b[0m\u001b[0;34m\u001b[0m\u001b[0;34m\u001b[0m\u001b[0m\n\u001b[0;32m--> 991\u001b[0;31m     \u001b[0ma\u001b[0m\u001b[0;34m.\u001b[0m\u001b[0msort\u001b[0m\u001b[0;34m(\u001b[0m\u001b[0maxis\u001b[0m\u001b[0;34m=\u001b[0m\u001b[0maxis\u001b[0m\u001b[0;34m,\u001b[0m \u001b[0mkind\u001b[0m\u001b[0;34m=\u001b[0m\u001b[0mkind\u001b[0m\u001b[0;34m,\u001b[0m \u001b[0morder\u001b[0m\u001b[0;34m=\u001b[0m\u001b[0morder\u001b[0m\u001b[0;34m)\u001b[0m\u001b[0;34m\u001b[0m\u001b[0;34m\u001b[0m\u001b[0m\n\u001b[0m\u001b[1;32m    992\u001b[0m     \u001b[0;32mreturn\u001b[0m \u001b[0ma\u001b[0m\u001b[0;34m\u001b[0m\u001b[0;34m\u001b[0m\u001b[0m\n\u001b[1;32m    993\u001b[0m \u001b[0;34m\u001b[0m\u001b[0m\n",
      "\u001b[0;31mValueError\u001b[0m: Cannot specify order when the array has no fields."
     ]
    }
   ],
   "source": [
    "p.sort()"
   ]
  },
  {
   "cell_type": "code",
   "execution_count": null,
   "metadata": {},
   "outputs": [],
   "source": []
  },
  {
   "cell_type": "code",
   "execution_count": null,
   "metadata": {},
   "outputs": [],
   "source": []
  },
  {
   "cell_type": "code",
   "execution_count": null,
   "metadata": {},
   "outputs": [],
   "source": []
  },
  {
   "cell_type": "code",
   "execution_count": null,
   "metadata": {},
   "outputs": [],
   "source": []
  },
  {
   "cell_type": "code",
   "execution_count": 605,
   "metadata": {
    "ExecuteTime": {
     "end_time": "2022-04-28T15:55:48.178107Z",
     "start_time": "2022-04-28T15:55:48.169182Z"
    }
   },
   "outputs": [],
   "source": [
    "SIZE = 8"
   ]
  },
  {
   "cell_type": "code",
   "execution_count": 606,
   "metadata": {
    "ExecuteTime": {
     "end_time": "2022-04-28T15:55:48.564130Z",
     "start_time": "2022-04-28T15:55:48.548738Z"
    }
   },
   "outputs": [],
   "source": [
    "tastoma = pd.DataFrame(0, index=np.arange(100), columns=[f\"g_{x}\" for x in range(SIZE)] + ['fitvalue'])"
   ]
  },
  {
   "cell_type": "code",
   "execution_count": 607,
   "metadata": {
    "ExecuteTime": {
     "end_time": "2022-04-28T15:55:48.947138Z",
     "start_time": "2022-04-28T15:55:48.920169Z"
    }
   },
   "outputs": [],
   "source": [
    "tastoma.iloc[:,:SIZE] = tastoma.iloc[:,:SIZE].applymap(lambda x: np.random.randint(1,11))"
   ]
  },
  {
   "cell_type": "code",
   "execution_count": 608,
   "metadata": {
    "ExecuteTime": {
     "end_time": "2022-04-28T15:55:49.335293Z",
     "start_time": "2022-04-28T15:55:49.317116Z"
    }
   },
   "outputs": [],
   "source": [
    "tastoma['fitvalue'] = tastoma.iloc[:,:SIZE].apply(lambda x: np.sum(x.values), axis=1)"
   ]
  },
  {
   "cell_type": "code",
   "execution_count": 609,
   "metadata": {
    "ExecuteTime": {
     "end_time": "2022-04-28T15:55:49.924728Z",
     "start_time": "2022-04-28T15:55:49.889602Z"
    }
   },
   "outputs": [],
   "source": [
    "tastoma.sort_values(by='fitvalue', ascending=False, inplace=True)"
   ]
  },
  {
   "cell_type": "code",
   "execution_count": 610,
   "metadata": {
    "ExecuteTime": {
     "end_time": "2022-04-28T15:55:50.391366Z",
     "start_time": "2022-04-28T15:55:50.367593Z"
    }
   },
   "outputs": [
    {
     "data": {
      "text/html": [
       "<div>\n",
       "<style scoped>\n",
       "    .dataframe tbody tr th:only-of-type {\n",
       "        vertical-align: middle;\n",
       "    }\n",
       "\n",
       "    .dataframe tbody tr th {\n",
       "        vertical-align: top;\n",
       "    }\n",
       "\n",
       "    .dataframe thead th {\n",
       "        text-align: right;\n",
       "    }\n",
       "</style>\n",
       "<table border=\"1\" class=\"dataframe\">\n",
       "  <thead>\n",
       "    <tr style=\"text-align: right;\">\n",
       "      <th></th>\n",
       "      <th>g_0</th>\n",
       "      <th>g_1</th>\n",
       "      <th>g_2</th>\n",
       "      <th>g_3</th>\n",
       "      <th>g_4</th>\n",
       "      <th>g_5</th>\n",
       "      <th>g_6</th>\n",
       "      <th>g_7</th>\n",
       "      <th>fitvalue</th>\n",
       "    </tr>\n",
       "  </thead>\n",
       "  <tbody>\n",
       "    <tr>\n",
       "      <th>40</th>\n",
       "      <td>10</td>\n",
       "      <td>8</td>\n",
       "      <td>8</td>\n",
       "      <td>10</td>\n",
       "      <td>5</td>\n",
       "      <td>7</td>\n",
       "      <td>7</td>\n",
       "      <td>10</td>\n",
       "      <td>65</td>\n",
       "    </tr>\n",
       "    <tr>\n",
       "      <th>2</th>\n",
       "      <td>10</td>\n",
       "      <td>7</td>\n",
       "      <td>7</td>\n",
       "      <td>6</td>\n",
       "      <td>6</td>\n",
       "      <td>10</td>\n",
       "      <td>6</td>\n",
       "      <td>10</td>\n",
       "      <td>62</td>\n",
       "    </tr>\n",
       "    <tr>\n",
       "      <th>21</th>\n",
       "      <td>8</td>\n",
       "      <td>2</td>\n",
       "      <td>9</td>\n",
       "      <td>9</td>\n",
       "      <td>8</td>\n",
       "      <td>7</td>\n",
       "      <td>10</td>\n",
       "      <td>8</td>\n",
       "      <td>61</td>\n",
       "    </tr>\n",
       "    <tr>\n",
       "      <th>22</th>\n",
       "      <td>7</td>\n",
       "      <td>5</td>\n",
       "      <td>9</td>\n",
       "      <td>9</td>\n",
       "      <td>10</td>\n",
       "      <td>4</td>\n",
       "      <td>7</td>\n",
       "      <td>9</td>\n",
       "      <td>60</td>\n",
       "    </tr>\n",
       "    <tr>\n",
       "      <th>87</th>\n",
       "      <td>6</td>\n",
       "      <td>9</td>\n",
       "      <td>10</td>\n",
       "      <td>8</td>\n",
       "      <td>7</td>\n",
       "      <td>4</td>\n",
       "      <td>7</td>\n",
       "      <td>7</td>\n",
       "      <td>58</td>\n",
       "    </tr>\n",
       "  </tbody>\n",
       "</table>\n",
       "</div>"
      ],
      "text/plain": [
       "    g_0  g_1  g_2  g_3  g_4  g_5  g_6  g_7  fitvalue\n",
       "40   10    8    8   10    5    7    7   10        65\n",
       "2    10    7    7    6    6   10    6   10        62\n",
       "21    8    2    9    9    8    7   10    8        61\n",
       "22    7    5    9    9   10    4    7    9        60\n",
       "87    6    9   10    8    7    4    7    7        58"
      ]
     },
     "execution_count": 610,
     "metadata": {},
     "output_type": "execute_result"
    }
   ],
   "source": [
    "tastoma.head()"
   ]
  },
  {
   "cell_type": "code",
   "execution_count": 506,
   "metadata": {
    "ExecuteTime": {
     "end_time": "2022-04-28T15:27:38.167918Z",
     "start_time": "2022-04-28T15:27:38.157392Z"
    }
   },
   "outputs": [],
   "source": [
    "def xov(dataframe, i1, i2):\n",
    "    concat = np.concatenate\n",
    "    split = get_split(SIZE)\n",
    "    chromo1, chromo2 = dataframe.iloc[i1,:-1].values, dataframe.iloc[i2,:-1].values\n",
    "    chromo1, chromo2 = concat((chromo1[:split],chromo2[split:])), concat((chromo2[:split],chromo1[split:]))\n",
    "    dataframe.iloc[i1,:-1] = chromo1\n",
    "    dataframe.iloc[i2,:-1] = chromo2\n",
    "    return None"
   ]
  },
  {
   "cell_type": "code",
   "execution_count": 520,
   "metadata": {
    "ExecuteTime": {
     "end_time": "2022-04-28T15:29:59.312818Z",
     "start_time": "2022-04-28T15:29:59.298967Z"
    }
   },
   "outputs": [],
   "source": [
    "xov(tastoma, 0, 3)"
   ]
  },
  {
   "cell_type": "code",
   "execution_count": 532,
   "metadata": {
    "ExecuteTime": {
     "end_time": "2022-04-28T15:32:25.347905Z",
     "start_time": "2022-04-28T15:32:25.332994Z"
    }
   },
   "outputs": [
    {
     "data": {
      "text/html": [
       "<div>\n",
       "<style scoped>\n",
       "    .dataframe tbody tr th:only-of-type {\n",
       "        vertical-align: middle;\n",
       "    }\n",
       "\n",
       "    .dataframe tbody tr th {\n",
       "        vertical-align: top;\n",
       "    }\n",
       "\n",
       "    .dataframe thead th {\n",
       "        text-align: right;\n",
       "    }\n",
       "</style>\n",
       "<table border=\"1\" class=\"dataframe\">\n",
       "  <thead>\n",
       "    <tr style=\"text-align: right;\">\n",
       "      <th></th>\n",
       "      <th>g_0</th>\n",
       "      <th>g_1</th>\n",
       "      <th>g_2</th>\n",
       "      <th>g_3</th>\n",
       "      <th>g_4</th>\n",
       "      <th>g_5</th>\n",
       "      <th>g_6</th>\n",
       "      <th>g_7</th>\n",
       "      <th>fitvalue</th>\n",
       "    </tr>\n",
       "  </thead>\n",
       "  <tbody>\n",
       "    <tr>\n",
       "      <th>45</th>\n",
       "      <td>8</td>\n",
       "      <td>8</td>\n",
       "      <td>6</td>\n",
       "      <td>8</td>\n",
       "      <td>5</td>\n",
       "      <td>10</td>\n",
       "      <td>9</td>\n",
       "      <td>10</td>\n",
       "      <td>64</td>\n",
       "    </tr>\n",
       "    <tr>\n",
       "      <th>59</th>\n",
       "      <td>9</td>\n",
       "      <td>10</td>\n",
       "      <td>10</td>\n",
       "      <td>8</td>\n",
       "      <td>7</td>\n",
       "      <td>10</td>\n",
       "      <td>1</td>\n",
       "      <td>4</td>\n",
       "      <td>59</td>\n",
       "    </tr>\n",
       "    <tr>\n",
       "      <th>87</th>\n",
       "      <td>7</td>\n",
       "      <td>8</td>\n",
       "      <td>1</td>\n",
       "      <td>9</td>\n",
       "      <td>7</td>\n",
       "      <td>10</td>\n",
       "      <td>8</td>\n",
       "      <td>9</td>\n",
       "      <td>59</td>\n",
       "    </tr>\n",
       "    <tr>\n",
       "      <th>0</th>\n",
       "      <td>10</td>\n",
       "      <td>10</td>\n",
       "      <td>4</td>\n",
       "      <td>3</td>\n",
       "      <td>8</td>\n",
       "      <td>8</td>\n",
       "      <td>5</td>\n",
       "      <td>9</td>\n",
       "      <td>57</td>\n",
       "    </tr>\n",
       "    <tr>\n",
       "      <th>85</th>\n",
       "      <td>9</td>\n",
       "      <td>3</td>\n",
       "      <td>7</td>\n",
       "      <td>9</td>\n",
       "      <td>1</td>\n",
       "      <td>10</td>\n",
       "      <td>7</td>\n",
       "      <td>10</td>\n",
       "      <td>56</td>\n",
       "    </tr>\n",
       "    <tr>\n",
       "      <th>...</th>\n",
       "      <td>...</td>\n",
       "      <td>...</td>\n",
       "      <td>...</td>\n",
       "      <td>...</td>\n",
       "      <td>...</td>\n",
       "      <td>...</td>\n",
       "      <td>...</td>\n",
       "      <td>...</td>\n",
       "      <td>...</td>\n",
       "    </tr>\n",
       "    <tr>\n",
       "      <th>16</th>\n",
       "      <td>4</td>\n",
       "      <td>3</td>\n",
       "      <td>3</td>\n",
       "      <td>2</td>\n",
       "      <td>9</td>\n",
       "      <td>5</td>\n",
       "      <td>4</td>\n",
       "      <td>3</td>\n",
       "      <td>33</td>\n",
       "    </tr>\n",
       "    <tr>\n",
       "      <th>50</th>\n",
       "      <td>6</td>\n",
       "      <td>6</td>\n",
       "      <td>4</td>\n",
       "      <td>3</td>\n",
       "      <td>6</td>\n",
       "      <td>2</td>\n",
       "      <td>2</td>\n",
       "      <td>2</td>\n",
       "      <td>31</td>\n",
       "    </tr>\n",
       "    <tr>\n",
       "      <th>15</th>\n",
       "      <td>1</td>\n",
       "      <td>6</td>\n",
       "      <td>6</td>\n",
       "      <td>8</td>\n",
       "      <td>1</td>\n",
       "      <td>5</td>\n",
       "      <td>1</td>\n",
       "      <td>2</td>\n",
       "      <td>30</td>\n",
       "    </tr>\n",
       "    <tr>\n",
       "      <th>54</th>\n",
       "      <td>4</td>\n",
       "      <td>4</td>\n",
       "      <td>2</td>\n",
       "      <td>1</td>\n",
       "      <td>8</td>\n",
       "      <td>1</td>\n",
       "      <td>6</td>\n",
       "      <td>2</td>\n",
       "      <td>28</td>\n",
       "    </tr>\n",
       "    <tr>\n",
       "      <th>27</th>\n",
       "      <td>1</td>\n",
       "      <td>1</td>\n",
       "      <td>1</td>\n",
       "      <td>3</td>\n",
       "      <td>1</td>\n",
       "      <td>6</td>\n",
       "      <td>6</td>\n",
       "      <td>6</td>\n",
       "      <td>25</td>\n",
       "    </tr>\n",
       "  </tbody>\n",
       "</table>\n",
       "<p>100 rows × 9 columns</p>\n",
       "</div>"
      ],
      "text/plain": [
       "    g_0  g_1  g_2  g_3  g_4  g_5  g_6  g_7  fitvalue\n",
       "45    8    8    6    8    5   10    9   10        64\n",
       "59    9   10   10    8    7   10    1    4        59\n",
       "87    7    8    1    9    7   10    8    9        59\n",
       "0    10   10    4    3    8    8    5    9        57\n",
       "85    9    3    7    9    1   10    7   10        56\n",
       "..  ...  ...  ...  ...  ...  ...  ...  ...       ...\n",
       "16    4    3    3    2    9    5    4    3        33\n",
       "50    6    6    4    3    6    2    2    2        31\n",
       "15    1    6    6    8    1    5    1    2        30\n",
       "54    4    4    2    1    8    1    6    2        28\n",
       "27    1    1    1    3    1    6    6    6        25\n",
       "\n",
       "[100 rows x 9 columns]"
      ]
     },
     "execution_count": 532,
     "metadata": {},
     "output_type": "execute_result"
    }
   ],
   "source": [
    "tastoma"
   ]
  },
  {
   "cell_type": "code",
   "execution_count": 472,
   "metadata": {
    "ExecuteTime": {
     "end_time": "2022-04-28T15:12:46.841913Z",
     "start_time": "2022-04-28T15:12:46.805235Z"
    }
   },
   "outputs": [
    {
     "data": {
      "text/plain": [
       "g1          10\n",
       "g2           9\n",
       "g3          10\n",
       "fitvalue    29\n",
       "Name: 35, dtype: int64"
      ]
     },
     "execution_count": 472,
     "metadata": {},
     "output_type": "execute_result"
    }
   ],
   "source": [
    "c1"
   ]
  },
  {
   "cell_type": "code",
   "execution_count": 611,
   "metadata": {
    "ExecuteTime": {
     "end_time": "2022-04-28T15:56:06.485746Z",
     "start_time": "2022-04-28T15:56:06.470848Z"
    }
   },
   "outputs": [],
   "source": [
    "sample = tastoma.sample(5)"
   ]
  },
  {
   "cell_type": "code",
   "execution_count": 613,
   "metadata": {
    "ExecuteTime": {
     "end_time": "2022-04-28T15:56:30.965014Z",
     "start_time": "2022-04-28T15:56:30.947078Z"
    }
   },
   "outputs": [],
   "source": [
    "sample = sample.applymap(lambda x: 0)"
   ]
  },
  {
   "cell_type": "code",
   "execution_count": 618,
   "metadata": {
    "ExecuteTime": {
     "end_time": "2022-04-28T15:58:27.234222Z",
     "start_time": "2022-04-28T15:58:27.224938Z"
    }
   },
   "outputs": [],
   "source": [
    "sample.drop('fitvalue', inplace=True, axis=1)"
   ]
  },
  {
   "cell_type": "code",
   "execution_count": 619,
   "metadata": {
    "ExecuteTime": {
     "end_time": "2022-04-28T15:58:30.166468Z",
     "start_time": "2022-04-28T15:58:30.147893Z"
    }
   },
   "outputs": [
    {
     "data": {
      "text/html": [
       "<div>\n",
       "<style scoped>\n",
       "    .dataframe tbody tr th:only-of-type {\n",
       "        vertical-align: middle;\n",
       "    }\n",
       "\n",
       "    .dataframe tbody tr th {\n",
       "        vertical-align: top;\n",
       "    }\n",
       "\n",
       "    .dataframe thead th {\n",
       "        text-align: right;\n",
       "    }\n",
       "</style>\n",
       "<table border=\"1\" class=\"dataframe\">\n",
       "  <thead>\n",
       "    <tr style=\"text-align: right;\">\n",
       "      <th></th>\n",
       "      <th>g_0</th>\n",
       "      <th>g_1</th>\n",
       "      <th>g_2</th>\n",
       "      <th>g_3</th>\n",
       "      <th>g_4</th>\n",
       "      <th>g_5</th>\n",
       "      <th>g_6</th>\n",
       "      <th>g_7</th>\n",
       "    </tr>\n",
       "  </thead>\n",
       "  <tbody>\n",
       "    <tr>\n",
       "      <th>97</th>\n",
       "      <td>0</td>\n",
       "      <td>0</td>\n",
       "      <td>0</td>\n",
       "      <td>0</td>\n",
       "      <td>0</td>\n",
       "      <td>0</td>\n",
       "      <td>0</td>\n",
       "      <td>0</td>\n",
       "    </tr>\n",
       "    <tr>\n",
       "      <th>44</th>\n",
       "      <td>0</td>\n",
       "      <td>0</td>\n",
       "      <td>0</td>\n",
       "      <td>0</td>\n",
       "      <td>0</td>\n",
       "      <td>0</td>\n",
       "      <td>0</td>\n",
       "      <td>0</td>\n",
       "    </tr>\n",
       "    <tr>\n",
       "      <th>25</th>\n",
       "      <td>0</td>\n",
       "      <td>0</td>\n",
       "      <td>0</td>\n",
       "      <td>0</td>\n",
       "      <td>0</td>\n",
       "      <td>0</td>\n",
       "      <td>0</td>\n",
       "      <td>0</td>\n",
       "    </tr>\n",
       "    <tr>\n",
       "      <th>2</th>\n",
       "      <td>0</td>\n",
       "      <td>0</td>\n",
       "      <td>0</td>\n",
       "      <td>0</td>\n",
       "      <td>0</td>\n",
       "      <td>0</td>\n",
       "      <td>0</td>\n",
       "      <td>0</td>\n",
       "    </tr>\n",
       "    <tr>\n",
       "      <th>72</th>\n",
       "      <td>0</td>\n",
       "      <td>0</td>\n",
       "      <td>0</td>\n",
       "      <td>0</td>\n",
       "      <td>0</td>\n",
       "      <td>0</td>\n",
       "      <td>0</td>\n",
       "      <td>0</td>\n",
       "    </tr>\n",
       "  </tbody>\n",
       "</table>\n",
       "</div>"
      ],
      "text/plain": [
       "    g_0  g_1  g_2  g_3  g_4  g_5  g_6  g_7\n",
       "97    0    0    0    0    0    0    0    0\n",
       "44    0    0    0    0    0    0    0    0\n",
       "25    0    0    0    0    0    0    0    0\n",
       "2     0    0    0    0    0    0    0    0\n",
       "72    0    0    0    0    0    0    0    0"
      ]
     },
     "execution_count": 619,
     "metadata": {},
     "output_type": "execute_result"
    }
   ],
   "source": [
    "sample"
   ]
  },
  {
   "cell_type": "code",
   "execution_count": 616,
   "metadata": {
    "ExecuteTime": {
     "end_time": "2022-04-28T15:57:54.167013Z",
     "start_time": "2022-04-28T15:57:54.150871Z"
    }
   },
   "outputs": [],
   "source": [
    "tastoma.drop('fitvalue', inplace=True, axis=1)"
   ]
  },
  {
   "cell_type": "code",
   "execution_count": 620,
   "metadata": {
    "ExecuteTime": {
     "end_time": "2022-04-28T15:59:03.366208Z",
     "start_time": "2022-04-28T15:59:03.357463Z"
    }
   },
   "outputs": [],
   "source": [
    "tastoma.loc[sample.index] = sample"
   ]
  },
  {
   "cell_type": "code",
   "execution_count": 621,
   "metadata": {
    "ExecuteTime": {
     "end_time": "2022-04-28T15:59:11.101542Z",
     "start_time": "2022-04-28T15:59:11.071192Z"
    }
   },
   "outputs": [
    {
     "data": {
      "text/plain": [
       "g_0    0\n",
       "g_1    0\n",
       "g_2    0\n",
       "g_3    0\n",
       "g_4    0\n",
       "g_5    0\n",
       "g_6    0\n",
       "g_7    0\n",
       "Name: 97, dtype: int64"
      ]
     },
     "execution_count": 621,
     "metadata": {},
     "output_type": "execute_result"
    }
   ],
   "source": [
    "tastoma.loc[97]"
   ]
  },
  {
   "cell_type": "code",
   "execution_count": 622,
   "metadata": {
    "ExecuteTime": {
     "end_time": "2022-04-28T15:59:16.519050Z",
     "start_time": "2022-04-28T15:59:16.501159Z"
    }
   },
   "outputs": [
    {
     "data": {
      "text/html": [
       "<div>\n",
       "<style scoped>\n",
       "    .dataframe tbody tr th:only-of-type {\n",
       "        vertical-align: middle;\n",
       "    }\n",
       "\n",
       "    .dataframe tbody tr th {\n",
       "        vertical-align: top;\n",
       "    }\n",
       "\n",
       "    .dataframe thead th {\n",
       "        text-align: right;\n",
       "    }\n",
       "</style>\n",
       "<table border=\"1\" class=\"dataframe\">\n",
       "  <thead>\n",
       "    <tr style=\"text-align: right;\">\n",
       "      <th></th>\n",
       "      <th>g_0</th>\n",
       "      <th>g_1</th>\n",
       "      <th>g_2</th>\n",
       "      <th>g_3</th>\n",
       "      <th>g_4</th>\n",
       "      <th>g_5</th>\n",
       "      <th>g_6</th>\n",
       "      <th>g_7</th>\n",
       "    </tr>\n",
       "  </thead>\n",
       "  <tbody>\n",
       "    <tr>\n",
       "      <th>40</th>\n",
       "      <td>10</td>\n",
       "      <td>8</td>\n",
       "      <td>8</td>\n",
       "      <td>10</td>\n",
       "      <td>5</td>\n",
       "      <td>7</td>\n",
       "      <td>7</td>\n",
       "      <td>10</td>\n",
       "    </tr>\n",
       "    <tr>\n",
       "      <th>2</th>\n",
       "      <td>0</td>\n",
       "      <td>0</td>\n",
       "      <td>0</td>\n",
       "      <td>0</td>\n",
       "      <td>0</td>\n",
       "      <td>0</td>\n",
       "      <td>0</td>\n",
       "      <td>0</td>\n",
       "    </tr>\n",
       "    <tr>\n",
       "      <th>21</th>\n",
       "      <td>8</td>\n",
       "      <td>2</td>\n",
       "      <td>9</td>\n",
       "      <td>9</td>\n",
       "      <td>8</td>\n",
       "      <td>7</td>\n",
       "      <td>10</td>\n",
       "      <td>8</td>\n",
       "    </tr>\n",
       "    <tr>\n",
       "      <th>22</th>\n",
       "      <td>7</td>\n",
       "      <td>5</td>\n",
       "      <td>9</td>\n",
       "      <td>9</td>\n",
       "      <td>10</td>\n",
       "      <td>4</td>\n",
       "      <td>7</td>\n",
       "      <td>9</td>\n",
       "    </tr>\n",
       "    <tr>\n",
       "      <th>87</th>\n",
       "      <td>6</td>\n",
       "      <td>9</td>\n",
       "      <td>10</td>\n",
       "      <td>8</td>\n",
       "      <td>7</td>\n",
       "      <td>4</td>\n",
       "      <td>7</td>\n",
       "      <td>7</td>\n",
       "    </tr>\n",
       "    <tr>\n",
       "      <th>...</th>\n",
       "      <td>...</td>\n",
       "      <td>...</td>\n",
       "      <td>...</td>\n",
       "      <td>...</td>\n",
       "      <td>...</td>\n",
       "      <td>...</td>\n",
       "      <td>...</td>\n",
       "      <td>...</td>\n",
       "    </tr>\n",
       "    <tr>\n",
       "      <th>56</th>\n",
       "      <td>3</td>\n",
       "      <td>3</td>\n",
       "      <td>1</td>\n",
       "      <td>8</td>\n",
       "      <td>6</td>\n",
       "      <td>1</td>\n",
       "      <td>6</td>\n",
       "      <td>2</td>\n",
       "    </tr>\n",
       "    <tr>\n",
       "      <th>16</th>\n",
       "      <td>1</td>\n",
       "      <td>6</td>\n",
       "      <td>4</td>\n",
       "      <td>2</td>\n",
       "      <td>10</td>\n",
       "      <td>1</td>\n",
       "      <td>1</td>\n",
       "      <td>4</td>\n",
       "    </tr>\n",
       "    <tr>\n",
       "      <th>10</th>\n",
       "      <td>1</td>\n",
       "      <td>4</td>\n",
       "      <td>2</td>\n",
       "      <td>8</td>\n",
       "      <td>1</td>\n",
       "      <td>6</td>\n",
       "      <td>1</td>\n",
       "      <td>4</td>\n",
       "    </tr>\n",
       "    <tr>\n",
       "      <th>82</th>\n",
       "      <td>2</td>\n",
       "      <td>3</td>\n",
       "      <td>4</td>\n",
       "      <td>6</td>\n",
       "      <td>4</td>\n",
       "      <td>2</td>\n",
       "      <td>1</td>\n",
       "      <td>1</td>\n",
       "    </tr>\n",
       "    <tr>\n",
       "      <th>93</th>\n",
       "      <td>1</td>\n",
       "      <td>2</td>\n",
       "      <td>1</td>\n",
       "      <td>1</td>\n",
       "      <td>4</td>\n",
       "      <td>6</td>\n",
       "      <td>3</td>\n",
       "      <td>4</td>\n",
       "    </tr>\n",
       "  </tbody>\n",
       "</table>\n",
       "<p>100 rows × 8 columns</p>\n",
       "</div>"
      ],
      "text/plain": [
       "    g_0  g_1  g_2  g_3  g_4  g_5  g_6  g_7\n",
       "40   10    8    8   10    5    7    7   10\n",
       "2     0    0    0    0    0    0    0    0\n",
       "21    8    2    9    9    8    7   10    8\n",
       "22    7    5    9    9   10    4    7    9\n",
       "87    6    9   10    8    7    4    7    7\n",
       "..  ...  ...  ...  ...  ...  ...  ...  ...\n",
       "56    3    3    1    8    6    1    6    2\n",
       "16    1    6    4    2   10    1    1    4\n",
       "10    1    4    2    8    1    6    1    4\n",
       "82    2    3    4    6    4    2    1    1\n",
       "93    1    2    1    1    4    6    3    4\n",
       "\n",
       "[100 rows x 8 columns]"
      ]
     },
     "execution_count": 622,
     "metadata": {},
     "output_type": "execute_result"
    }
   ],
   "source": [
    "tastoma"
   ]
  },
  {
   "cell_type": "code",
   "execution_count": null,
   "metadata": {},
   "outputs": [],
   "source": []
  },
  {
   "cell_type": "code",
   "execution_count": 623,
   "metadata": {
    "ExecuteTime": {
     "end_time": "2022-04-28T16:01:12.002821Z",
     "start_time": "2022-04-28T16:01:11.981966Z"
    }
   },
   "outputs": [],
   "source": [
    "tastoma['fitvalue'] = tastoma.iloc[:,:SIZE].apply(lambda x: np.sum(x.values), axis=1)"
   ]
  },
  {
   "cell_type": "code",
   "execution_count": 624,
   "metadata": {
    "ExecuteTime": {
     "end_time": "2022-04-28T16:01:16.541916Z",
     "start_time": "2022-04-28T16:01:16.524142Z"
    }
   },
   "outputs": [
    {
     "data": {
      "text/html": [
       "<div>\n",
       "<style scoped>\n",
       "    .dataframe tbody tr th:only-of-type {\n",
       "        vertical-align: middle;\n",
       "    }\n",
       "\n",
       "    .dataframe tbody tr th {\n",
       "        vertical-align: top;\n",
       "    }\n",
       "\n",
       "    .dataframe thead th {\n",
       "        text-align: right;\n",
       "    }\n",
       "</style>\n",
       "<table border=\"1\" class=\"dataframe\">\n",
       "  <thead>\n",
       "    <tr style=\"text-align: right;\">\n",
       "      <th></th>\n",
       "      <th>g_0</th>\n",
       "      <th>g_1</th>\n",
       "      <th>g_2</th>\n",
       "      <th>g_3</th>\n",
       "      <th>g_4</th>\n",
       "      <th>g_5</th>\n",
       "      <th>g_6</th>\n",
       "      <th>g_7</th>\n",
       "      <th>fitvalue</th>\n",
       "    </tr>\n",
       "  </thead>\n",
       "  <tbody>\n",
       "    <tr>\n",
       "      <th>40</th>\n",
       "      <td>10</td>\n",
       "      <td>8</td>\n",
       "      <td>8</td>\n",
       "      <td>10</td>\n",
       "      <td>5</td>\n",
       "      <td>7</td>\n",
       "      <td>7</td>\n",
       "      <td>10</td>\n",
       "      <td>65</td>\n",
       "    </tr>\n",
       "    <tr>\n",
       "      <th>2</th>\n",
       "      <td>0</td>\n",
       "      <td>0</td>\n",
       "      <td>0</td>\n",
       "      <td>0</td>\n",
       "      <td>0</td>\n",
       "      <td>0</td>\n",
       "      <td>0</td>\n",
       "      <td>0</td>\n",
       "      <td>0</td>\n",
       "    </tr>\n",
       "    <tr>\n",
       "      <th>21</th>\n",
       "      <td>8</td>\n",
       "      <td>2</td>\n",
       "      <td>9</td>\n",
       "      <td>9</td>\n",
       "      <td>8</td>\n",
       "      <td>7</td>\n",
       "      <td>10</td>\n",
       "      <td>8</td>\n",
       "      <td>61</td>\n",
       "    </tr>\n",
       "    <tr>\n",
       "      <th>22</th>\n",
       "      <td>7</td>\n",
       "      <td>5</td>\n",
       "      <td>9</td>\n",
       "      <td>9</td>\n",
       "      <td>10</td>\n",
       "      <td>4</td>\n",
       "      <td>7</td>\n",
       "      <td>9</td>\n",
       "      <td>60</td>\n",
       "    </tr>\n",
       "    <tr>\n",
       "      <th>87</th>\n",
       "      <td>6</td>\n",
       "      <td>9</td>\n",
       "      <td>10</td>\n",
       "      <td>8</td>\n",
       "      <td>7</td>\n",
       "      <td>4</td>\n",
       "      <td>7</td>\n",
       "      <td>7</td>\n",
       "      <td>58</td>\n",
       "    </tr>\n",
       "    <tr>\n",
       "      <th>...</th>\n",
       "      <td>...</td>\n",
       "      <td>...</td>\n",
       "      <td>...</td>\n",
       "      <td>...</td>\n",
       "      <td>...</td>\n",
       "      <td>...</td>\n",
       "      <td>...</td>\n",
       "      <td>...</td>\n",
       "      <td>...</td>\n",
       "    </tr>\n",
       "    <tr>\n",
       "      <th>56</th>\n",
       "      <td>3</td>\n",
       "      <td>3</td>\n",
       "      <td>1</td>\n",
       "      <td>8</td>\n",
       "      <td>6</td>\n",
       "      <td>1</td>\n",
       "      <td>6</td>\n",
       "      <td>2</td>\n",
       "      <td>30</td>\n",
       "    </tr>\n",
       "    <tr>\n",
       "      <th>16</th>\n",
       "      <td>1</td>\n",
       "      <td>6</td>\n",
       "      <td>4</td>\n",
       "      <td>2</td>\n",
       "      <td>10</td>\n",
       "      <td>1</td>\n",
       "      <td>1</td>\n",
       "      <td>4</td>\n",
       "      <td>29</td>\n",
       "    </tr>\n",
       "    <tr>\n",
       "      <th>10</th>\n",
       "      <td>1</td>\n",
       "      <td>4</td>\n",
       "      <td>2</td>\n",
       "      <td>8</td>\n",
       "      <td>1</td>\n",
       "      <td>6</td>\n",
       "      <td>1</td>\n",
       "      <td>4</td>\n",
       "      <td>27</td>\n",
       "    </tr>\n",
       "    <tr>\n",
       "      <th>82</th>\n",
       "      <td>2</td>\n",
       "      <td>3</td>\n",
       "      <td>4</td>\n",
       "      <td>6</td>\n",
       "      <td>4</td>\n",
       "      <td>2</td>\n",
       "      <td>1</td>\n",
       "      <td>1</td>\n",
       "      <td>23</td>\n",
       "    </tr>\n",
       "    <tr>\n",
       "      <th>93</th>\n",
       "      <td>1</td>\n",
       "      <td>2</td>\n",
       "      <td>1</td>\n",
       "      <td>1</td>\n",
       "      <td>4</td>\n",
       "      <td>6</td>\n",
       "      <td>3</td>\n",
       "      <td>4</td>\n",
       "      <td>22</td>\n",
       "    </tr>\n",
       "  </tbody>\n",
       "</table>\n",
       "<p>100 rows × 9 columns</p>\n",
       "</div>"
      ],
      "text/plain": [
       "    g_0  g_1  g_2  g_3  g_4  g_5  g_6  g_7  fitvalue\n",
       "40   10    8    8   10    5    7    7   10        65\n",
       "2     0    0    0    0    0    0    0    0         0\n",
       "21    8    2    9    9    8    7   10    8        61\n",
       "22    7    5    9    9   10    4    7    9        60\n",
       "87    6    9   10    8    7    4    7    7        58\n",
       "..  ...  ...  ...  ...  ...  ...  ...  ...       ...\n",
       "56    3    3    1    8    6    1    6    2        30\n",
       "16    1    6    4    2   10    1    1    4        29\n",
       "10    1    4    2    8    1    6    1    4        27\n",
       "82    2    3    4    6    4    2    1    1        23\n",
       "93    1    2    1    1    4    6    3    4        22\n",
       "\n",
       "[100 rows x 9 columns]"
      ]
     },
     "execution_count": 624,
     "metadata": {},
     "output_type": "execute_result"
    }
   ],
   "source": [
    "tastoma"
   ]
  },
  {
   "cell_type": "code",
   "execution_count": 625,
   "metadata": {
    "ExecuteTime": {
     "end_time": "2022-04-28T16:01:58.054808Z",
     "start_time": "2022-04-28T16:01:58.031546Z"
    }
   },
   "outputs": [
    {
     "data": {
      "text/html": [
       "<div>\n",
       "<style scoped>\n",
       "    .dataframe tbody tr th:only-of-type {\n",
       "        vertical-align: middle;\n",
       "    }\n",
       "\n",
       "    .dataframe tbody tr th {\n",
       "        vertical-align: top;\n",
       "    }\n",
       "\n",
       "    .dataframe thead th {\n",
       "        text-align: right;\n",
       "    }\n",
       "</style>\n",
       "<table border=\"1\" class=\"dataframe\">\n",
       "  <thead>\n",
       "    <tr style=\"text-align: right;\">\n",
       "      <th></th>\n",
       "      <th>g_0</th>\n",
       "      <th>g_1</th>\n",
       "      <th>g_2</th>\n",
       "      <th>g_3</th>\n",
       "      <th>g_4</th>\n",
       "      <th>g_5</th>\n",
       "      <th>g_6</th>\n",
       "      <th>g_7</th>\n",
       "      <th>fitvalue</th>\n",
       "    </tr>\n",
       "  </thead>\n",
       "  <tbody>\n",
       "    <tr>\n",
       "      <th>40</th>\n",
       "      <td>10</td>\n",
       "      <td>8</td>\n",
       "      <td>8</td>\n",
       "      <td>10</td>\n",
       "      <td>5</td>\n",
       "      <td>7</td>\n",
       "      <td>7</td>\n",
       "      <td>10</td>\n",
       "      <td>65</td>\n",
       "    </tr>\n",
       "    <tr>\n",
       "      <th>21</th>\n",
       "      <td>8</td>\n",
       "      <td>2</td>\n",
       "      <td>9</td>\n",
       "      <td>9</td>\n",
       "      <td>8</td>\n",
       "      <td>7</td>\n",
       "      <td>10</td>\n",
       "      <td>8</td>\n",
       "      <td>61</td>\n",
       "    </tr>\n",
       "    <tr>\n",
       "      <th>22</th>\n",
       "      <td>7</td>\n",
       "      <td>5</td>\n",
       "      <td>9</td>\n",
       "      <td>9</td>\n",
       "      <td>10</td>\n",
       "      <td>4</td>\n",
       "      <td>7</td>\n",
       "      <td>9</td>\n",
       "      <td>60</td>\n",
       "    </tr>\n",
       "    <tr>\n",
       "      <th>87</th>\n",
       "      <td>6</td>\n",
       "      <td>9</td>\n",
       "      <td>10</td>\n",
       "      <td>8</td>\n",
       "      <td>7</td>\n",
       "      <td>4</td>\n",
       "      <td>7</td>\n",
       "      <td>7</td>\n",
       "      <td>58</td>\n",
       "    </tr>\n",
       "    <tr>\n",
       "      <th>32</th>\n",
       "      <td>10</td>\n",
       "      <td>7</td>\n",
       "      <td>7</td>\n",
       "      <td>4</td>\n",
       "      <td>8</td>\n",
       "      <td>10</td>\n",
       "      <td>9</td>\n",
       "      <td>2</td>\n",
       "      <td>57</td>\n",
       "    </tr>\n",
       "    <tr>\n",
       "      <th>...</th>\n",
       "      <td>...</td>\n",
       "      <td>...</td>\n",
       "      <td>...</td>\n",
       "      <td>...</td>\n",
       "      <td>...</td>\n",
       "      <td>...</td>\n",
       "      <td>...</td>\n",
       "      <td>...</td>\n",
       "      <td>...</td>\n",
       "    </tr>\n",
       "    <tr>\n",
       "      <th>25</th>\n",
       "      <td>0</td>\n",
       "      <td>0</td>\n",
       "      <td>0</td>\n",
       "      <td>0</td>\n",
       "      <td>0</td>\n",
       "      <td>0</td>\n",
       "      <td>0</td>\n",
       "      <td>0</td>\n",
       "      <td>0</td>\n",
       "    </tr>\n",
       "    <tr>\n",
       "      <th>2</th>\n",
       "      <td>0</td>\n",
       "      <td>0</td>\n",
       "      <td>0</td>\n",
       "      <td>0</td>\n",
       "      <td>0</td>\n",
       "      <td>0</td>\n",
       "      <td>0</td>\n",
       "      <td>0</td>\n",
       "      <td>0</td>\n",
       "    </tr>\n",
       "    <tr>\n",
       "      <th>44</th>\n",
       "      <td>0</td>\n",
       "      <td>0</td>\n",
       "      <td>0</td>\n",
       "      <td>0</td>\n",
       "      <td>0</td>\n",
       "      <td>0</td>\n",
       "      <td>0</td>\n",
       "      <td>0</td>\n",
       "      <td>0</td>\n",
       "    </tr>\n",
       "    <tr>\n",
       "      <th>97</th>\n",
       "      <td>0</td>\n",
       "      <td>0</td>\n",
       "      <td>0</td>\n",
       "      <td>0</td>\n",
       "      <td>0</td>\n",
       "      <td>0</td>\n",
       "      <td>0</td>\n",
       "      <td>0</td>\n",
       "      <td>0</td>\n",
       "    </tr>\n",
       "    <tr>\n",
       "      <th>72</th>\n",
       "      <td>0</td>\n",
       "      <td>0</td>\n",
       "      <td>0</td>\n",
       "      <td>0</td>\n",
       "      <td>0</td>\n",
       "      <td>0</td>\n",
       "      <td>0</td>\n",
       "      <td>0</td>\n",
       "      <td>0</td>\n",
       "    </tr>\n",
       "  </tbody>\n",
       "</table>\n",
       "<p>100 rows × 9 columns</p>\n",
       "</div>"
      ],
      "text/plain": [
       "    g_0  g_1  g_2  g_3  g_4  g_5  g_6  g_7  fitvalue\n",
       "40   10    8    8   10    5    7    7   10        65\n",
       "21    8    2    9    9    8    7   10    8        61\n",
       "22    7    5    9    9   10    4    7    9        60\n",
       "87    6    9   10    8    7    4    7    7        58\n",
       "32   10    7    7    4    8   10    9    2        57\n",
       "..  ...  ...  ...  ...  ...  ...  ...  ...       ...\n",
       "25    0    0    0    0    0    0    0    0         0\n",
       "2     0    0    0    0    0    0    0    0         0\n",
       "44    0    0    0    0    0    0    0    0         0\n",
       "97    0    0    0    0    0    0    0    0         0\n",
       "72    0    0    0    0    0    0    0    0         0\n",
       "\n",
       "[100 rows x 9 columns]"
      ]
     },
     "execution_count": 625,
     "metadata": {},
     "output_type": "execute_result"
    }
   ],
   "source": [
    "tastoma.sort_values(by='fitvalue', ascending=False, inplace=True)\n",
    "tastoma"
   ]
  }
 ],
 "metadata": {
  "kernelspec": {
   "display_name": "Python 3",
   "language": "python",
   "name": "python3"
  },
  "language_info": {
   "codemirror_mode": {
    "name": "ipython",
    "version": 3
   },
   "file_extension": ".py",
   "mimetype": "text/x-python",
   "name": "python",
   "nbconvert_exporter": "python",
   "pygments_lexer": "ipython3",
   "version": "3.7.4"
  },
  "toc": {
   "base_numbering": 1,
   "nav_menu": {},
   "number_sections": true,
   "sideBar": true,
   "skip_h1_title": false,
   "title_cell": "Table of Contents",
   "title_sidebar": "Contents",
   "toc_cell": false,
   "toc_position": {},
   "toc_section_display": true,
   "toc_window_display": false
  }
 },
 "nbformat": 4,
 "nbformat_minor": 2
}
